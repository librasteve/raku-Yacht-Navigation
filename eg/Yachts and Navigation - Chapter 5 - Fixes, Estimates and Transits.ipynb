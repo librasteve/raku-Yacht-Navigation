{
 "cells": [
  {
   "cell_type": "markdown",
   "metadata": {},
   "source": [
    "# Chapter 5 - Fixes, Estimates and Transits\n",
    "\n",
    "_Copyright @2022 p6steve, please see Chapter 1 for Terms of Use_\n",
    "\n",
    "This chapter will develop the concepts that we met in Chapter 4 and will present both raku and navigation concepts cell by cell.\n",
    "\n",
    "First, Jupyter notebooks need us to repeat a little preamble each time..."
   ]
  },
  {
   "cell_type": "code",
   "execution_count": 2,
   "metadata": {},
   "outputs": [],
   "source": [
    "use Physics::Navigation;\n",
    "use Physics::Measure;"
   ]
  },
  {
   "cell_type": "markdown",
   "metadata": {},
   "source": [
    "So we have seen how to go from one place to another, which direction to steer, how far to go and how long it will take. Now we need to work out where we are!"
   ]
  },
  {
   "cell_type": "markdown",
   "metadata": {},
   "source": [
    "We can start this exercise by declaring some Positions..."
   ]
  },
  {
   "cell_type": "code",
   "execution_count": 3,
   "metadata": {},
   "outputs": [
    {
     "name": "stdout",
     "output_type": "stream",
     "text": [
      "(51°30.432′N, 000°7.656′W)\n",
      "(51°30.432′N, 000°6.66′W)\n",
      "(51°30.432′N, 000°6.6′W)\n"
     ]
    }
   ],
   "source": [
    "my $pos-A = Position.new( ♓️<51.5072°N>, ♓️<0.1276°W> ); say \"$pos-A\";\n",
    "my $pos-B = Position.new( ♓️<51.5072°N>, ♓️<0.1110°W> ); say \"$pos-B\";\n",
    "my $pos-C = Position.new( ♓️<51.5072°N>, ♓️<0.1100°W> ); say \"$pos-C\";"
   ]
  },
  {
   "cell_type": "markdown",
   "metadata": {},
   "source": [
    "Hint: You can use decimal notation for Angles as well as dms."
   ]
  },
  {
   "cell_type": "markdown",
   "metadata": {},
   "source": [
    "## Fixes"
   ]
  },
  {
   "cell_type": "markdown",
   "metadata": {},
   "source": [
    "Imagine you are standing on the deck of a boat. If you can see a fixed object such as a navigation buoy or a radio mast, and if its Position is marked on the chart, then you can take a Fix. Take the Fix by measuring the Bearing from you to the object.\n",
    "\n",
    "Simple. Each raku Fix object has a direction (from you) and a location. Here are two Fixes to two different objects."
   ]
  },
  {
   "cell_type": "code",
   "execution_count": 4,
   "metadata": {},
   "outputs": [
    {
     "name": "stdout",
     "output_type": "stream",
     "text": [
      "Fix on Bearing 112°ESE (T) to Position (51°30.432′N, 000°7.656′W)\n",
      "Fix on Bearing 025°NNE (T) to Position (51°30.432′N, 000°6.66′W)\n"
     ]
    }
   ],
   "source": [
    "my $fix-A = Fix.new( direction => ♓️<112°T>, location  => $pos-A );  say \"$fix-A\";\n",
    "my $fix-B = Fix.new( direction => ♓️<25°T>,  location  => $pos-B );  say \"$fix-B\";"
   ]
  },
  {
   "cell_type": "markdown",
   "metadata": {},
   "source": [
    "## Estimates"
   ]
  },
  {
   "cell_type": "markdown",
   "metadata": {},
   "source": [
    "You need two Fixes to work out your Position. If you have a chart you can draw two lines on the measured Bearings that pass through the objects. You Position is where the lines cross. \n",
    "\n",
    "A raku Estimate object is loaded with the two Fixes like so:"
   ]
  },
  {
   "cell_type": "code",
   "execution_count": 6,
   "metadata": {},
   "outputs": [
    {
     "name": "stdout",
     "output_type": "stream",
     "text": [
      "Estimated Position: (51°30.2′N, 000°6.8′W)\n"
     ]
    }
   ],
   "source": [
    "$Physics::Measure::round-val = 0.1;\n",
    "\n",
    "my $ep = Estimate.new( :$fix-A, :$fix-B );      say \"$ep\";"
   ]
  },
  {
   "cell_type": "markdown",
   "metadata": {},
   "source": [
    "Then you can just output the Estimate to get your estimated position. Raku solves the triangle for you."
   ]
  },
  {
   "cell_type": "markdown",
   "metadata": {},
   "source": [
    "## Transits"
   ]
  },
  {
   "cell_type": "markdown",
   "metadata": {},
   "source": [
    "A Transit is another handy way to work out your Position. Pick two charted objects such as a buoy and a radio mast (with known Positions). As you sail by, there will be one moment when both objects appear to be aligned on the same Bearing. While you can be on any point in the line that extends through the objects, you can use this information to confirm your Position if you already have an estimate."
   ]
  },
  {
   "cell_type": "code",
   "execution_count": 7,
   "metadata": {},
   "outputs": [
    {
     "name": "stdout",
     "output_type": "stream",
     "text": [
      "270°W (T)\n",
      "270°W (T)\n",
      "Same\n"
     ]
    }
   ],
   "source": [
    "my $tr = Transit.new( :$pos-A, :$pos-B );       say $tr.aligned( $pos-C );"
   ]
  },
  {
   "cell_type": "markdown",
   "metadata": {},
   "source": [
    "Hint: this works becaue all our Positions share the same Latitude ... see what happens when you are not aligned."
   ]
  },
  {
   "cell_type": "code",
   "execution_count": null,
   "metadata": {},
   "outputs": [],
   "source": []
  }
 ],
 "metadata": {
  "kernelspec": {
   "display_name": "Raku",
   "language": "raku",
   "name": "raku"
  },
  "language_info": {
   "file_extension": ".raku",
   "mimetype": "text/plain",
   "name": "raku",
   "version": "6.d"
  }
 },
 "nbformat": 4,
 "nbformat_minor": 2
}
