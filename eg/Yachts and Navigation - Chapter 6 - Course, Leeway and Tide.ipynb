{
 "cells": [
  {
   "cell_type": "markdown",
   "metadata": {},
   "source": [
    "# Chapter 6 - Course, Leeway and Tide\n",
    "\n",
    "This chapter will develop the ideas that we met previously and will present both raku and navigation concepts cell by cell.\n",
    "\n",
    "First, Jupyter notebooks need us to repeat a little preamble each time..."
   ]
  },
  {
   "cell_type": "code",
   "execution_count": 26,
   "metadata": {},
   "outputs": [],
   "source": [
    "use Physics::Navigation;\n",
    "use Physics::Measure;"
   ]
  },
  {
   "cell_type": "markdown",
   "metadata": {},
   "source": [
    "## Course"
   ]
  },
  {
   "cell_type": "markdown",
   "metadata": {},
   "source": [
    "So far, we have sailed on seas without considering the effect of wind and tide. Now let's take a look at how we can factor in the elements to safely reach our destination..."
   ]
  },
  {
   "cell_type": "markdown",
   "metadata": {},
   "source": [
    "- Course embodies the vector identity - CTS = COG + TAV [+leeway]\n",
    "- Course To Steer, Course Over Ground, Tide Average Velocity\n",
    "- there is an implicit time interval since TAV is tide Speed (knots) + Bearing"
   ]
  },
  {
   "cell_type": "markdown",
   "metadata": {},
   "source": [
    "In the Physics::Navigation module, the following data structure is declared:"
   ]
  },
  {
   "cell_type": "code",
   "execution_count": 27,
   "metadata": {},
   "outputs": [
    {
     "data": {
      "text/plain": [
       "()"
      ]
     },
     "execution_count": 27,
     "metadata": {},
     "output_type": "execute_result"
    }
   ],
   "source": [
    "#our %course-info is export = %(\n",
    "#    leeway     => CourseAdj.new( value => 0,  compass => <Sb> ),\n",
    "#    interval   => Time.new( value => 1,  units => 'hours' ),\n",
    "#    boat-speed => Speed.new( value => 5, units => 'knots' ),\n",
    "#);"
   ]
  },
  {
   "cell_type": "markdown",
   "metadata": {},
   "source": [
    "Hint: this code introduces a couple of new raku concepts:\n",
    "- the 'our' declarator means that this variable is visible to all parts of the program (in contrast, 'my' variables are confined to a specific {} blaock)\n",
    "- the '%' symbol denotes a 'hash' structure which contained named items - leeway, interval, boat-speed\n",
    "- the values are loaded with defaults ...\n",
    "\n",
    "So to set a boat-speed of 6.5 knots..."
   ]
  },
  {
   "cell_type": "code",
   "execution_count": 28,
   "metadata": {},
   "outputs": [
    {
     "data": {
      "text/plain": [
       "6.5knot"
      ]
     },
     "execution_count": 28,
     "metadata": {},
     "output_type": "execute_result"
    }
   ],
   "source": [
    "%course-info<boat-speed> =  ♓️'6.5 knots';"
   ]
  },
  {
   "cell_type": "markdown",
   "metadata": {},
   "source": [
    "## Leeway"
   ]
  },
  {
   "cell_type": "markdown",
   "metadata": {},
   "source": [
    "When sailing in wind, you will get pushed sideways off your intended course unless its coming directly from the bow or the stern. This sideways motion is called \"leeway\", it is usually stated as a Course Adjustment bearing to Port or Starboard. To maintain your Bearing through the water, you need to  adjust your steering towards the wind.\n",
    "\n",
    "In practice, you can easily determine your leeway:\n",
    "- steer on your intended Bearing for a while, then measure the Bearing of your wake\n",
    "- calculate the back Bearing from your wake, this is your actual course through the water\n",
    "- subtract from your intended Bearing to get your leeway, adjust your steering by this amount"
   ]
  },
  {
   "cell_type": "code",
   "execution_count": 29,
   "metadata": {},
   "outputs": [
    {
     "data": {
      "text/plain": [
       "01°0′Pt"
      ]
     },
     "execution_count": 29,
     "metadata": {},
     "output_type": "execute_result"
    }
   ],
   "source": [
    "%course-info<leeway> = ♓️<1°Pt>;"
   ]
  },
  {
   "cell_type": "markdown",
   "metadata": {},
   "source": [
    "## Tide"
   ]
  },
  {
   "cell_type": "markdown",
   "metadata": {},
   "source": [
    "Nautical charts and almanacs, as well as many websites, provide accurate predictions of the tide speed and direction depending on the date, the time of day and the location. Since the tide rises and falls over the course of several hours, the usual practice is to apply an estimate of the tide average velocity each hour. Thus the default time interval in our %course-info."
   ]
  },
  {
   "cell_type": "code",
   "execution_count": 30,
   "metadata": {},
   "outputs": [
    {
     "name": "stdout",
     "output_type": "stream",
     "text": [
      "(112°ESE (T), 2.2knot)\n"
     ]
    }
   ],
   "source": [
    "my $tidal-flow = Velocity.new( θ => ♓️<112°T>, s => ♓️'2.2 knots' );   say \"$tidal-flow\";"
   ]
  },
  {
   "cell_type": "markdown",
   "metadata": {},
   "source": [
    "## Course (coda)\n",
    "\n",
    "Now we have set all the aspects of our course, we can go ahead and use it. We need to feed in the desired Course Over Ground Bearing and the tidal flow we just created."
   ]
  },
  {
   "cell_type": "code",
   "execution_count": 33,
   "metadata": {},
   "outputs": [
    {
     "name": "stdout",
     "output_type": "stream",
     "text": [
      "Course to steer: 002°N (T)\n"
     ]
    }
   ],
   "source": [
    "my $course = Course.new( over-ground => ♓️<22°T>, :$tidal-flow );  say \"$course\";"
   ]
  },
  {
   "cell_type": "markdown",
   "metadata": {},
   "source": [
    "That's cool, if we output our new course, it tells us our Course to steer to get there."
   ]
  },
  {
   "cell_type": "markdown",
   "metadata": {},
   "source": [
    "Hint: raku has many tricks up its sleeve - here you see how `:$xxx` is a shortcut for `xxx => $xxx`"
   ]
  },
  {
   "cell_type": "code",
   "execution_count": 32,
   "metadata": {},
   "outputs": [
    {
     "name": "stdout",
     "output_type": "stream",
     "text": [
      "6.2knot\n"
     ]
    }
   ],
   "source": [
    "$Physics::Measure::round-val = 0.1;\n",
    "\n",
    "say $course.speed-over-ground.in('knots');"
   ]
  },
  {
   "cell_type": "markdown",
   "metadata": {},
   "source": [
    "And we can use the _.speed_over_ground_ method to check that we will be there before closing time despite the effects of wind and tide."
   ]
  },
  {
   "cell_type": "code",
   "execution_count": null,
   "metadata": {},
   "outputs": [],
   "source": []
  }
 ],
 "metadata": {
  "kernelspec": {
   "display_name": "Raku",
   "language": "raku",
   "name": "raku"
  },
  "language_info": {
   "file_extension": ".raku",
   "mimetype": "text/plain",
   "name": "raku",
   "version": "6.d"
  }
 },
 "nbformat": 4,
 "nbformat_minor": 2
}
