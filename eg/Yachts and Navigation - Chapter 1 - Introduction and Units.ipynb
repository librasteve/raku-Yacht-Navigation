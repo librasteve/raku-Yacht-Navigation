{
 "cells": [
  {
   "cell_type": "markdown",
   "metadata": {},
   "source": [
    "# Yachts and Navigation - Raku Coding Companion\n",
    "\n",
    "# Chapter 1 - Introduction and Units\n",
    "\n",
    "This Jupyter Notebook is intended as a Raku coding companion to anyone who is working on the theory aspects of yachting.\n",
    "\n",
    "The aim is to help intermediate students of yacht cruising to learn and appreciate modern software coding techiques and to apply them to perform interactive calculations.\n",
    "\n",
    "The author has chosen raku over other programming languages, such as Python or Go, for a number of reasons: (i) Unicode makes it more natural to express nautical formulae, (ii) Rational numbers are more suitable for navigation problems, (iii) it combines Object Oriented, Functional and Procedural programming in a expressive way that matches the needs of nautical problems and (iv) it has a basic set of commands 'baby raku' that can be grasped quickly by newcomers to programming.\n",
    "\n",
    "*No prior knowledge of yachting or coding are needed to start - the concepts are introduced gradually by example.*\n",
    "\n",
    "More on raku language can be found at http://raku.org and http://docs.raku.org. I highly recommend 'Think Raku' by Laurent Rosenfeld, with Allen Downey (https://greenteapress.com/wp/think-perl-6/) as an excellent introduction to modern programming for beginningers without any prior knowledge of coding. Raku is the new name for perl6.\n",
    "\n",
    "This content is provided under the Artistic licence 2.0.\n",
    "\n",
    "***THIS CONTENT IS PROVIDED FOR EDUCATIONAL PURPOSES ONLY - DO NOT RELY SOLELY ON THESE TECHNIQUES FOR LIFE CRITICAL NAVIGATION TASKS***"
   ]
  },
  {
   "cell_type": "markdown",
   "metadata": {},
   "source": [
    "## 1.1 Using Units in Raku\n",
    "\n",
    "We will be using a Raku module called Physics::Measure to help us perform calculations with units. Here are some simple examples to help get you started."
   ]
  },
  {
   "cell_type": "code",
   "execution_count": null,
   "metadata": {},
   "outputs": [],
   "source": [
    "### Physics::Unit is included with Physics::Measure and is used to look up Unit objects, like this:\n",
    "\n",
    "use Physics::Unit;\n",
    "\n",
    "my $units = GetUnit( \"degrees\" );\n",
    "say \"My units are $units\";"
   ]
  },
  {
   "cell_type": "markdown",
   "metadata": {},
   "source": [
    "Raku uses the dollar symbol to indicate a variable and needs a semicolon at the end of every line.\n",
    "The _my_ keyword is used to declare a new variable.\n",
    "The _say_ operator sends results to the screen, using double quotes to show variable contents.\n",
    "One or more hash symbols (_###_) indicate a comment."
   ]
  },
  {
   "cell_type": "code",
   "execution_count": null,
   "metadata": {},
   "outputs": [],
   "source": [
    "### Physics::Measure makes a new Measure object from a Unit object and a value, like this:\n",
    "\n",
    "use Physics::Measure;\n",
    "\n",
    "my $angle = Angle.new( value => 7, units => $units );\n",
    "say \"My angle is $angle.\";\n",
    "\n",
    "#say $angle;     #<==== uncomment this statement to see what else lurks within a Measure object"
   ]
  },
  {
   "cell_type": "markdown",
   "metadata": {},
   "source": [
    "Raku objects have methods that do stuff - the dot '.' syntax calls the method on the object.\n",
    "Here we are calling the unit method of the angle object and then the type method of the unit object."
   ]
  },
  {
   "cell_type": "code",
   "execution_count": null,
   "metadata": {},
   "outputs": [],
   "source": [
    "### There is a handy \"libra\" definition symbol to reduce excess typing:\n",
    "\n",
    "my $angle ♎️ \"7.2 degrees\";       #°, deg and degrees both work fine\n",
    "say \"My angle is $angle\";"
   ]
  },
  {
   "cell_type": "markdown",
   "metadata": {},
   "source": [
    "Sometimes Jupyter will automatically create the closing quote for you \"\" ... take care!"
   ]
  },
  {
   "cell_type": "code",
   "execution_count": null,
   "metadata": {},
   "outputs": [],
   "source": [
    "### Angles can be specified as decimal or degrees-minutes-seconds:\n",
    "\n",
    "my $θ ♎️ <7°30′30″>;\n",
    "say $θ.WHAT;\n",
    "say \"My θ is $θ\";"
   ]
  },
  {
   "cell_type": "markdown",
   "metadata": {},
   "source": [
    "Hint: use cut and paste the ♎️ and deg/min/sec symbols °/′/″"
   ]
  },
  {
   "cell_type": "code",
   "execution_count": null,
   "metadata": {},
   "outputs": [],
   "source": [
    "### Lengths are Measures:\n",
    "\n",
    "my $metres ♎️ \"7 m\";\n",
    "my $nmiles ♎️ \"7 nmiles\";\n",
    "say $metres.WHAT;\n",
    "say \"Thats $metres and $nmiles\";\n",
    "say \"There are {$nmiles / $metres} metres per nautical-mile\";"
   ]
  },
  {
   "cell_type": "markdown",
   "metadata": {},
   "source": [
    "Hint: Use curly brackets {} to place code snippets within double quotes."
   ]
  },
  {
   "cell_type": "code",
   "execution_count": null,
   "metadata": {},
   "outputs": [],
   "source": [
    "### And Times can be defined in hrs, mins and secs:\n",
    "\n",
    "my $hours ♎️ \"3.5 hr\";\n",
    "say $hours.WHAT;\n",
    "say \"Thats $hours\";"
   ]
  },
  {
   "cell_type": "code",
   "execution_count": null,
   "metadata": {},
   "outputs": [],
   "source": [
    "### And Speed is distance divided by time:\n",
    "$round-to = 0.01;  #This rounds our output Str for inexact sums\n",
    "\n",
    "my $speed = $nmiles / $hours;\n",
    "say $speed.WHAT;\n",
    "say \"That's a speed of {$speed.in('knots')}\";"
   ]
  },
  {
   "cell_type": "code",
   "execution_count": null,
   "metadata": {
    "scrolled": true
   },
   "outputs": [],
   "source": [
    "### Trigonometric functions (sin, cos and tan)...\n",
    "\n",
    "my $sine = sin( $θ );\n",
    "say \"The sine of $θ is $sine\";\n",
    "say \"[$θ is equivalent to decimal {+$θ} degrees or $θ.in('radians') for checking purposes]\";"
   ]
  },
  {
   "cell_type": "markdown",
   "metadata": {},
   "source": [
    "Hint - the ```+$θ``` is a shortcut for ```$θ.value```."
   ]
  },
  {
   "cell_type": "code",
   "execution_count": null,
   "metadata": {},
   "outputs": [],
   "source": [
    "### ... and their inverses (asin, acos and atan) work on Angle objects.\n",
    "\n",
    "my $arcsin = asin( $sine, units => '°' );\n",
    "say \"My arcsin is $arcsin\";"
   ]
  },
  {
   "cell_type": "markdown",
   "metadata": {},
   "source": [
    "Hint: You need to provide the ```units => '°'``` tag to tell raku you want degrees back."
   ]
  },
  {
   "cell_type": "code",
   "execution_count": null,
   "metadata": {},
   "outputs": [],
   "source": []
  }
 ],
 "metadata": {
  "kernelspec": {
   "display_name": "Raku",
   "language": "raku",
   "name": "raku"
  },
  "language_info": {
   "file_extension": ".p6",
   "mimetype": "text/plain",
   "name": "raku",
   "version": "6.d"
  }
 },
 "nbformat": 4,
 "nbformat_minor": 2
}
