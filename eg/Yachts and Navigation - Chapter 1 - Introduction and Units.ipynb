{
 "cells": [
  {
   "cell_type": "markdown",
   "metadata": {},
   "source": [
    "# Yachts and Navigation - Raku Coding Companion\n",
    "\n",
    "# Chapter 1 - Introduction and Units\n",
    "\n",
    "This Jupyter Notebook is intended as a Raku coding companion to anyone who is working on the theory aspects of yachting.\n",
    "\n",
    "The aim is to help intermediate students of yacht cruising to learn and appreciate modern software coding techiques and to apply them to perform interactive calculations.\n",
    "\n",
    "The author has chosen raku over other programming languages, such as Python or Go, for a number of reasons: (i) Unicode makes it more natural to express nautical formulae, (ii) Rational numbers are more suitable for navigation problems, (iii) it combines Object Oriented, Functional and Procedural programming in a expressive way that matches the needs of nautical problems and (iv) it has a basic set of commands 'baby raku' that can be grasped quickly by newcomers to programming.\n",
    "\n",
    "*No prior knowledge of yachting or coding are needed to start - the concepts are introduced gradually by example.*\n",
    "\n",
    "More on raku language can be found at http://raku.org and http://docs.raku.org. I highly recommend 'Think Raku' by Laurent Rosenfeld, with Allen Downey (https://greenteapress.com/wp/think-perl-6/) as an excellent introduction to modern programming for beginningers without any prior knowledge of coding. Raku is the new name for perl6.\n",
    "\n",
    "This content is provided under the Artistic licence 2.0.\n",
    "\n",
    "***THIS CONTENT IS PROVIDED FOR EDUCATIONAL PURPOSES ONLY - DO NOT RELY SOLELY ON THESE TECHNIQUES FOR LIFE CRITICAL NAVIGATION TASKS***"
   ]
  },
  {
   "cell_type": "markdown",
   "metadata": {},
   "source": [
    "## 1.1 Using Units in Raku\n",
    "\n",
    "We will be using a Raku module called Physics::Measure to help us perform calculations with units. Here are some simple examples to help get you started."
   ]
  },
  {
   "cell_type": "code",
   "execution_count": 1,
   "metadata": {},
   "outputs": [
    {
     "name": "stdout",
     "output_type": "stream",
     "text": [
      "My units are °\n"
     ]
    }
   ],
   "source": [
    "### Physics::Unit is included with Physics::Measure and is used to look up Unit objects, like this:\n",
    "\n",
    "use Physics::Unit;\n",
    "\n",
    "my $units = GetUnit( \"deg\" );\n",
    "say \"My units are $units\";"
   ]
  },
  {
   "cell_type": "markdown",
   "metadata": {},
   "source": [
    "Raku uses the dollar symbol to indicate a variable and needs a semicolon at the end of every line. \n",
    "The my keyword is used to declare a new variable.\n",
    "The say operator sends results to the screen, using double quotes to show variable contents.\n",
    "One or more hash symbols (###) indicate a comment."
   ]
  },
  {
   "cell_type": "code",
   "execution_count": 2,
   "metadata": {},
   "outputs": [
    {
     "name": "stdout",
     "output_type": "stream",
     "text": [
      "My angle is 7 °\n",
      "Its units have type Angle\n"
     ]
    }
   ],
   "source": [
    "### Physics::Measure makes a new Measure object from a Unit object and a value, like this:\n",
    "\n",
    "use Physics::Measure;\n",
    "\n",
    "my $angle = Measure.new( value => 7, units => $units );\n",
    "say \"My angle is $angle\";\n",
    "say \"Its units have type {$angle.units.type}\";\n",
    "\n",
    "#say $angle;     #<==== uncomment this statement to see what lurks within a Measure object"
   ]
  },
  {
   "cell_type": "markdown",
   "metadata": {},
   "source": [
    "Raku objects have methods that do stuff - the dot '.' syntax calls the method on the object.\n",
    "Here we are calling the unit method of the angle object and then the type method of the unit object.\n",
    "Use curly brackets to place code snippets within double quotes."
   ]
  },
  {
   "cell_type": "code",
   "execution_count": 3,
   "metadata": {},
   "outputs": [
    {
     "name": "stdout",
     "output_type": "stream",
     "text": [
      "My angle in degrees is 7 °\n",
      "My angle in minutes is 7 ′\n",
      "My angle in seconds is 7 ″\n"
     ]
    }
   ],
   "source": [
    "### Since we will be using angles quite a lot, there is a handy \"libra\" notation to reduce excess typing:\n",
    "\n",
    "use Physics::Measure;\n",
    "\n",
    "my $angle-in-degrees ♎️ \"7 deg\";       #deg and degrees both work fine\n",
    "say \"My angle in degrees is $angle-in-degrees\";\n",
    "\n",
    "my $angle-in-minutes ♎️ \"7 arcmin\";\n",
    "say \"My angle in minutes is $angle-in-minutes\";\n",
    "\n",
    "my $angle-in-seconds ♎️ \"7 arcsec\";\n",
    "say \"My angle in seconds is $angle-in-seconds\";\n",
    "\n",
    "### Usually Jupyter will automatically create the closing quote for you \"\" ... take care!"
   ]
  },
  {
   "cell_type": "code",
   "execution_count": 10,
   "metadata": {},
   "outputs": [
    {
     "name": "stdout",
     "output_type": "stream",
     "text": [
      "My angle in degrees is 7 °\n",
      "My angle in minutes is 7 ′\n",
      "My angle in seconds is 7 ″\n"
     ]
    }
   ],
   "source": [
    "### Declarations can use the long form (above), or use Physics::UnitPostfix to save typing:\n",
    "\n",
    "use Physics::Measure;\n",
    "use Physics::UnitPostfix;\n",
    "\n",
    "my $angle-in-degrees = 7°;\n",
    "say \"My angle in degrees is $angle-in-degrees\";\n",
    "\n",
    "my $angle-in-minutes = 7′;\n",
    "say \"My angle in minutes is $angle-in-minutes\";\n",
    "\n",
    "my $angle-in-seconds = 7″;\n",
    "say \"My angle in seconds is $angle-in-seconds\";"
   ]
  },
  {
   "cell_type": "markdown",
   "metadata": {},
   "source": [
    "Hint for now it is easiest to cut and paste the ♎️ and deg/min/sec symbols °/′/″\n",
    "If you are using a Mac, click the keyboard icon (flag) in the top menu bar and Show Emoji and Symbols, then paste these into your favourites"
   ]
  },
  {
   "cell_type": "code",
   "execution_count": 5,
   "metadata": {},
   "outputs": [
    {
     "name": "stdout",
     "output_type": "stream",
     "text": [
      "My sum of angles is 7.118611111111111 °\n"
     ]
    }
   ],
   "source": [
    "### Measure objects can be used in mathematical functions, such as add (+) and subtract (-) ...\n",
    "\n",
    "use Physics::Measure;\n",
    "\n",
    "my $sum-of-angles = $angle-in-degrees + $angle-in-minutes + $angle-in-seconds;\n",
    "say \"My sum of angles is $sum-of-angles\";\n",
    "\n",
    "### You will get decimal results..."
   ]
  },
  {
   "cell_type": "code",
   "execution_count": 6,
   "metadata": {},
   "outputs": [
    {
     "name": "stdout",
     "output_type": "stream",
     "text": [
      "My original angle was 7 °\n"
     ]
    }
   ],
   "source": [
    "### One cool thing about raku is that the maths 'just works':\n",
    "\n",
    "my $original-angle = $sum-of-angles - $angle-in-minutes - $angle-in-seconds;\n",
    "say \"My original angle was $original-angle\";"
   ]
  },
  {
   "cell_type": "code",
   "execution_count": 7,
   "metadata": {},
   "outputs": [
    {
     "name": "stdout",
     "output_type": "stream",
     "text": [
      "My ratio of angles is 60\n"
     ]
    }
   ],
   "source": [
    "### ... and multiply (*) and divide (/) ...\n",
    "\n",
    "my $ratio-of-angles = $angle-in-degrees / $angle-in-minutes;\n",
    "say \"My ratio of angles is {$ratio-of-angles.round(0.001)}\";   #use the round method if needed"
   ]
  },
  {
   "cell_type": "code",
   "execution_count": 8,
   "metadata": {},
   "outputs": [
    {
     "name": "stdout",
     "output_type": "stream",
     "text": [
      "My angle in radians is 0.122173047639603065 radian\n",
      "My sine of angle is 0.12186934340514748\n"
     ]
    }
   ],
   "source": [
    "### ... and trigonometric functions such as sine (sin), cosine (cos) and tangent (tan) ...\n",
    "\n",
    "my $angle-in-radians = $angle-in-degrees.in('radians');\n",
    "say \"My angle in radians is $angle-in-radians\";\n",
    "\n",
    "my $sin-of-angle = sin( $angle-in-degrees.in('radians').value );  #i.e. feed the value of our angle into the sin function\n",
    "say \"My sine of angle is $sin-of-angle\";"
   ]
  },
  {
   "cell_type": "markdown",
   "metadata": {},
   "source": [
    "NB. Trig functions in raku require the argument value to be in radians. The .in( 'radians' ) method does the conversion."
   ]
  },
  {
   "cell_type": "code",
   "execution_count": 9,
   "metadata": {},
   "outputs": [
    {
     "data": {
      "text/plain": [
       "Unsupported use of bare \"say\"; in Raku please use .say if you meant to call it as a method on $_, or use an explicit invocant or argument, or use &say to refer to the function as a noun"
      ]
     },
     "execution_count": 9,
     "metadata": {},
     "output_type": "execute_result"
    }
   ],
   "source": [
    "### ... and the inverses arc-sine (asin), arc-cosine (acos) and arc-tangent (atan) ...\n",
    "\n",
    "my $angle-via-arcsin = asin( $sin-of-angle );\n",
    "say \"My angle via arc-sine is $angle-via-arcsin\";\n",
    "say \n",
    "\n",
    "###iamerejh - rads? - need  \n",
    "###and new mod Physics::Navigation to provide Lat and Long units that are Angles (in degrees)\n",
    "###and to to improve the Trig functions"
   ]
  },
  {
   "cell_type": "code",
   "execution_count": null,
   "metadata": {},
   "outputs": [],
   "source": []
  }
 ],
 "metadata": {
  "kernelspec": {
   "display_name": "Raku",
   "language": "raku",
   "name": "raku"
  },
  "language_info": {
   "file_extension": ".p6",
   "mimetype": "text/plain",
   "name": "raku",
   "version": "6.d"
  }
 },
 "nbformat": 4,
 "nbformat_minor": 2
}
