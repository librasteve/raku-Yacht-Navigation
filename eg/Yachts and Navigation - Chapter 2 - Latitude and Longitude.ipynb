{
 "cells": [
  {
   "cell_type": "markdown",
   "metadata": {},
   "source": [
    "# Yachts and Navigation - Raku Coding Companion\n",
    "\n",
    "# Chapter 2 - Latitude and Longitude\n",
    "\n",
    "This chapter will expand on the Latitude and Longitude classes that we met in Chapter 1 and will present both raku and navigation concepts cell by cell.\n",
    "\n",
    "First, Jupyter notebooks need us to repeat a little preamble each time..."
   ]
  },
  {
   "cell_type": "code",
   "execution_count": 15,
   "metadata": {},
   "outputs": [
    {
     "name": "stdout",
     "output_type": "stream",
     "text": [
      "42nmile\n",
      "1.5hr\n"
     ]
    }
   ],
   "source": [
    "use Physics::Navigation;\n",
    "use Physics::Measure;\n",
    "\n",
    "$Physics::Measure::round-val = 0.01;\n",
    "\n",
    "my $d2 = ♓️'42 nmile';\t\t\t\t\t\tsay \"$d2\";\n",
    "my $t2 = ♓️'1.5 hr';\t\t\t\t\t\tsay \"$t2\";"
   ]
  },
  {
   "cell_type": "markdown",
   "metadata": {},
   "source": [
    "As we saw in Chapter 1, Angles such as Latitude and Longitude can be expressed in a similar way with both longhand and shorthand versions - here the `♓️` symbol can be used with angle brackets and degree/minute/seconds and the compass point in this format `♓️<43°30′30″S>;`."
   ]
  },
  {
   "cell_type": "code",
   "execution_count": 20,
   "metadata": {},
   "outputs": [
    {
     "name": "stdout",
     "output_type": "stream",
     "text": [
      "45°0′N\n",
      "43°30.05′S\n"
     ]
    }
   ],
   "source": [
    "my $lat1 = Latitude.new( value => 45, compass => <N> );\t say \"$lat1\";\n",
    "my $lat2 = ♓️<43°30′03″S>;\t\t\t\t\tsay \"$lat2\";"
   ]
  },
  {
   "cell_type": "markdown",
   "metadata": {},
   "source": [
    "Format.\n",
    "\n",
    "The correct format for writing down Latitude is 00°00.00' followed by N for north or S for south.\n",
    "\n",
    "Using 00°00'.00 is also correct and both systems are used in the course.\n",
    "If the latitude is, 5° 1'.1 it should be set out thus, 05° 01.10'.\n",
    "\n",
    "Since the maximum longitude can only be 180°, it is always shown in three figure notation. \n",
    "5° west of Greenwich would be written thus, 005° 00.00' W, however 005° 00'.00 W is also correct and both systems are used in the course."
   ]
  },
  {
   "cell_type": "markdown",
   "metadata": {},
   "source": [
    "And of course you have Longitude and can perform various conversions and calculations. \n",
    "\n",
    "Each degree of latitude = 60 nautical miles\n",
    "\n",
    "Each minute of latitude = 1 nautical mile\n",
    "\n",
    "The in-lat() function converts from nmiles to ° latitude. Conversely the method .in('nmiles') will convert back."
   ]
  },
  {
   "cell_type": "code",
   "execution_count": 12,
   "metadata": {},
   "outputs": [
    {
     "name": "stdout",
     "output_type": "stream",
     "text": [
      "045°0′W\n",
      "022°0′E\n",
      "88°30.5′S\n",
      "00°42′N\n",
      "42nmile\n"
     ]
    },
    {
     "data": {
      "text/plain": [
       "Constraint type check failed in binding to parameter '$s'; expected anonymous constraint to be met but got Str (\"cables\")"
      ]
     },
     "execution_count": 12,
     "metadata": {},
     "output_type": "execute_result"
    }
   ],
   "source": [
    "my $long1 = ♓️<45°W>;\t\t\t\t\t\tsay \"$long1\";\n",
    "my $long2 = ♓️<22°E>;\t\t\t\t\t\tsay \"$long2\";\n",
    "\n",
    "my $lat4 = $lat2 - $lat1;                   say \"$lat4\";\n",
    "\n",
    "my $lat3 = in-lat( $d2 );\t\t\t\t\tsay \"$lat3\";\n",
    "say \"{$lat3.in('nmiles')}\";\n",
    "say \"{$lat3.in('cables')}\";"
   ]
  },
  {
   "cell_type": "code",
   "execution_count": 2,
   "metadata": {
    "scrolled": true
   },
   "outputs": [
    {
     "name": "stdout",
     "output_type": "stream",
     "text": [
      "Physics::Navigation::Latitude.new(value => 45, units => Unit.new( factor => 0.017453292519943295, offset => 0, defn => 'pi radians / 180', type => '',\n",
      "\t  dims => [0,0,0,0,0,0,0,1], dmix => (\"pi\"=>1,\"radians\"=>1).MixHash, \n",
      "\t  names => ['°','degree','degrees','deg','degs','°']  );\n",
      ", compass => \"N\", value => 45, units => Unit.new( factor => 0.017453292519943295, offset => 0, defn => 'pi radians / 180', type => '',\n",
      "\t  dims => [0,0,0,0,0,0,0,1], dmix => (\"pi\"=>1,\"radians\"=>1).MixHash, \n",
      "\t  names => ['°','degree','degrees','deg','degs','°']  );\n",
      ")\n",
      "yo\n"
     ]
    }
   ],
   "source": [
    "use lib '../../raku-Physics-Navigation/lib';\n",
    "use Physics::Navigation;\n",
    "\n",
    "my $lat1 = Latitude.new( value => 45, compass => <N> );\n",
    "say $lat1;\n",
    "say ~$lat1;\n"
   ]
  },
  {
   "cell_type": "code",
   "execution_count": null,
   "metadata": {},
   "outputs": [],
   "source": [
    "my $lat2 ♎️ <7°30′30″>;\n",
    "say ~$lat2;"
   ]
  },
  {
   "cell_type": "code",
   "execution_count": null,
   "metadata": {},
   "outputs": [],
   "source": [
    "### Angles can be specified as decimal or degrees-minutes-seconds:\n",
    "\n",
    "my $θ ♎️ <7°30′30″>;\n",
    "say $θ.WHAT;\n",
    "say \"My θ is $θ\";"
   ]
  }
 ],
 "metadata": {
  "kernelspec": {
   "display_name": "Raku",
   "language": "raku",
   "name": "raku"
  },
  "language_info": {
   "file_extension": ".raku",
   "mimetype": "text/plain",
   "name": "raku",
   "version": "6.d"
  }
 },
 "nbformat": 4,
 "nbformat_minor": 2
}
