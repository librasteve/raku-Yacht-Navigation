{
 "cells": [
  {
   "cell_type": "markdown",
   "metadata": {},
   "source": [
    "# Yachts and Navigation - on Raku\n",
    "\n",
    "# Chapter 2 - Latitude and Longitude\n",
    "\n",
    "This chapter will expand on the Latitude and Longitude classes that we met in Chapter 1 and will present both raku and navigation concepts cell by cell.\n",
    "\n",
    "First, Jupyter notebooks need us to repeat a little preamble each time..."
   ]
  },
  {
   "cell_type": "code",
   "execution_count": 2,
   "metadata": {},
   "outputs": [],
   "source": [
    "use Physics::Navigation;\n",
    "use Physics::Measure;"
   ]
  },
  {
   "cell_type": "markdown",
   "metadata": {},
   "source": [
    "A perspective view of the Earth showing how latitude ϕ(phi) and longitude (λ)lambda are defined on a spherical model.\n",
    "![diagram](https://upload.wikimedia.org/wikipedia/commons/thumb/8/83/Latitude_and_longitude_graticule_on_a_sphere.svg/400px-Latitude_and_longitude_graticule_on_a_sphere.svg.png)"
   ]
  },
  {
   "cell_type": "markdown",
   "metadata": {},
   "source": [
    "Latitude is the angle on the Earth between the equator (0º) and the North or South pole (90ºN or 90ºS)."
   ]
  },
  {
   "cell_type": "markdown",
   "metadata": {},
   "source": [
    "Latitude and Longitude can be expressed in a similar way with either longhand and shorthand syntax - the pisces `♓️` symbol can be used with angle brackets and degree/minute/seconds and the compass point in this format `♓️<43°30′30″S>;`. Use compass points N&S for Latitude and E&W for Longitude."
   ]
  },
  {
   "cell_type": "code",
   "execution_count": 3,
   "metadata": {},
   "outputs": [
    {
     "name": "stdout",
     "output_type": "stream",
     "text": [
      "ϕ1 is 45°0′N\n",
      "ϕ2 is 43°30.5′S\n",
      "Trapped interrupt.  Please restart the kernel to abort execution.\n",
      "Exiting Raku kernel (you may close client)\n"
     ]
    }
   ],
   "source": [
    "my \\ϕ1 = Latitude.new( value => 45, compass => <N> ); say \"ϕ1 is {ϕ1}\";\n",
    "my \\ϕ2 = ♓️<43°30′30″S>;                              say \"ϕ2 is {ϕ2}\";"
   ]
  },
  {
   "cell_type": "markdown",
   "metadata": {},
   "source": [
    "Hint: Instead of declaring a variable with a $ sigil, you can use a backslash."
   ]
  },
  {
   "cell_type": "markdown",
   "metadata": {},
   "source": [
    "You can do basic math on Latitudes - and the compass direction is taken into account. However, you will get an error if the result is greater than 90°."
   ]
  },
  {
   "cell_type": "code",
   "execution_count": 3,
   "metadata": {},
   "outputs": [
    {
     "name": "stdout",
     "output_type": "stream",
     "text": [
      "01°29.95′N\n",
      "88°30.05′N\n"
     ]
    },
    {
     "data": {
      "text/plain": [
       "may not exceed 90°"
      ]
     },
     "execution_count": 3,
     "metadata": {},
     "output_type": "execute_result"
    }
   ],
   "source": [
    "say ϕ1 + ϕ2;        # S adopts a -ve value\n",
    "say ϕ1 - ϕ2;        # minus a -ve is a plus\n",
    "\n",
    "try {\n",
    "    say 3 * ϕ1;      # value -90 <= ϕ <= 90\n",
    "}\n",
    "if $! {\"may not exceed 90°\";}"
   ]
  },
  {
   "cell_type": "markdown",
   "metadata": {},
   "source": [
    "Longitude is the angle on the Earth east or west of the Greenwich Meridian up to plus 180ºE or minus 180ºW."
   ]
  },
  {
   "cell_type": "code",
   "execution_count": 4,
   "metadata": {},
   "outputs": [
    {
     "name": "stdout",
     "output_type": "stream",
     "text": [
      "λ1 is 045°0′E\n",
      "λ2 is 022°0′W\n"
     ]
    }
   ],
   "source": [
    "my \\λ1 = Longitude.new( value => 45, compass => <E> ); say \"λ1 is {λ1}\";\n",
    "my \\λ2 = ♓️<22°W>;                                     say \"λ2 is {λ2}\";"
   ]
  },
  {
   "cell_type": "markdown",
   "metadata": {},
   "source": [
    "Hint: Degree outputs are zero padded to two (Latitude) of three (Longitude) digits to reflect their respective limits."
   ]
  },
  {
   "cell_type": "code",
   "execution_count": 5,
   "metadata": {},
   "outputs": [
    {
     "name": "stdout",
     "output_type": "stream",
     "text": [
      "023°0′E\n",
      "045°0′E\n"
     ]
    },
    {
     "data": {
      "text/plain": [
       "may not exceed 180°"
      ]
     },
     "execution_count": 5,
     "metadata": {},
     "output_type": "execute_result"
    }
   ],
   "source": [
    "say λ1 + λ2;        # W adopts a -ve value\n",
    "say λ1 - λ2;        # minus a -ve is a plus\n",
    "\n",
    "try {\n",
    "    say 5 * λ1;     # value -180 < λ <= 180\n",
    "}\n",
    "if $! {\"may not exceed 180°\";}"
   ]
  },
  {
   "cell_type": "markdown",
   "metadata": {},
   "source": [
    "The length of each degree of Latitude on the surface is constant:-\n",
    "\n",
    "- Each degree of Latitude = 60 nautical miles\n",
    "- Each minute of Latitude = 1 nautical mile\n",
    "\n",
    "The in-lat() function converts from Distance in nmiles to ° Latitude. Conversely the method .in('nmiles') will convert back."
   ]
  },
  {
   "cell_type": "code",
   "execution_count": 9,
   "metadata": {},
   "outputs": [
    {
     "name": "stdout",
     "output_type": "stream",
     "text": [
      "λ3 is 00°42′N\n",
      "42nmile\n"
     ]
    }
   ],
   "source": [
    "my $d = ♓️'42 nmile';\n",
    "\n",
    "my \\λ3 = in-lat( $d );            say \"λ3 is {λ3}\";\n",
    "\n",
    "say \"{λ3.in('nmiles')}\";"
   ]
  },
  {
   "cell_type": "markdown",
   "metadata": {},
   "source": [
    "No similar equivalence exists for Longitude since the distance travelled per degree at the surface is not constant."
   ]
  },
  {
   "cell_type": "code",
   "execution_count": null,
   "metadata": {},
   "outputs": [],
   "source": []
  }
 ],
 "metadata": {
  "kernelspec": {
   "display_name": "Raku",
   "language": "raku",
   "name": "raku"
  },
  "language_info": {
   "file_extension": ".raku",
   "mimetype": "text/plain",
   "name": "raku",
   "version": "6.d"
  }
 },
 "nbformat": 4,
 "nbformat_minor": 2
}
