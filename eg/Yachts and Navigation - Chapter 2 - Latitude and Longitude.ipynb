{
 "cells": [
  {
   "cell_type": "markdown",
   "metadata": {},
   "source": [
    "# Yachts and Navigation - Raku Coding Companion\n",
    "\n",
    "# Chapter 2 - Latitude and Longitude\n",
    "\n",
    "Each degree of latitude = 60 nautical miles\n",
    "\n",
    "Each minute of latitude = 1 nautical mile\n",
    "\n",
    "1/10th of a minute of latitude = 1 cable\n",
    "\n",
    "Format.\n",
    "\n",
    "The correct format for writing down latitude is 00°00.00' followed by N for north or S for south.\n",
    "\n",
    "Using 00°00'.00 is also correct and both systems are used in the course.\n",
    "If the latitude is, 5° 1'.1 it should be set out thus, 05° 01.10'.\n",
    "\n",
    "Since the maximum longitude can only be 180°, it is always shown in three figure notation. \n",
    "5° west of Greenwich would be written thus, 005° 00.00' W, however 005° 00'.00 W is also correct and both systems are used in the course."
   ]
  },
  {
   "cell_type": "code",
   "execution_count": 2,
   "metadata": {
    "scrolled": true
   },
   "outputs": [
    {
     "name": "stdout",
     "output_type": "stream",
     "text": [
      "Physics::Navigation::Latitude.new(value => 45, units => Unit.new( factor => 0.017453292519943295, offset => 0, defn => 'pi radians / 180', type => '',\n",
      "\t  dims => [0,0,0,0,0,0,0,1], dmix => (\"pi\"=>1,\"radians\"=>1).MixHash, \n",
      "\t  names => ['°','degree','degrees','deg','degs','°']  );\n",
      ", compass => \"N\", value => 45, units => Unit.new( factor => 0.017453292519943295, offset => 0, defn => 'pi radians / 180', type => '',\n",
      "\t  dims => [0,0,0,0,0,0,0,1], dmix => (\"pi\"=>1,\"radians\"=>1).MixHash, \n",
      "\t  names => ['°','degree','degrees','deg','degs','°']  );\n",
      ")\n",
      "yo\n"
     ]
    }
   ],
   "source": [
    "use lib '../../raku-Physics-Navigation/lib';\n",
    "use Physics::Navigation;\n",
    "\n",
    "my $lat1 = Latitude.new( value => 45, compass => <N> );\n",
    "say $lat1;\n",
    "say ~$lat1;\n"
   ]
  },
  {
   "cell_type": "code",
   "execution_count": null,
   "metadata": {},
   "outputs": [],
   "source": [
    "my $lat2 ♎️ <7°30′30″>;\n",
    "say ~$lat2;"
   ]
  },
  {
   "cell_type": "code",
   "execution_count": null,
   "metadata": {},
   "outputs": [],
   "source": [
    "### Angles can be specified as decimal or degrees-minutes-seconds:\n",
    "\n",
    "my $θ ♎️ <7°30′30″>;\n",
    "say $θ.WHAT;\n",
    "say \"My θ is $θ\";"
   ]
  },
  {
   "cell_type": "markdown",
   "metadata": {},
   "source": [
    "## 1.1 Using Units in Raku\n",
    "\n",
    "We will be using a Raku module called Physics::Measure to help us perform calculations with units. Here are some simple examples to help get you started."
   ]
  },
  {
   "cell_type": "code",
   "execution_count": null,
   "metadata": {},
   "outputs": [],
   "source": [
    "### Physics::Unit is included with Physics::Measure and is used to look up Unit objects, like this:\n",
    "\n",
    "use Physics::Unit;\n",
    "\n",
    "my $units = GetUnit( \"deg\" );\n",
    "say \"My units are $units\";"
   ]
  },
  {
   "cell_type": "markdown",
   "metadata": {},
   "source": [
    "Raku uses the dollar symbol to indicate a variable and needs a semicolon at the end of every line. \n",
    "The my keyword is used to declare a new variable.\n",
    "The say operator sends results to the screen, using double quotes to show variable contents.\n",
    "One or more hash symbols (###) indicate a comment."
   ]
  }
 ],
 "metadata": {
  "kernelspec": {
   "display_name": "Raku",
   "language": "raku",
   "name": "raku"
  },
  "language_info": {
   "file_extension": ".p6",
   "mimetype": "text/plain",
   "name": "raku",
   "version": "6.d"
  }
 },
 "nbformat": 4,
 "nbformat_minor": 2
}
