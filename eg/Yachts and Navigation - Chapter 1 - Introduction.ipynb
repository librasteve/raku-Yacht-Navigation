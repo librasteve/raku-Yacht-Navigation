{
 "cells": [
  {
   "cell_type": "markdown",
   "metadata": {},
   "source": [
    "# Yachts and Navigation - Raku Coding Companion\n",
    "\n",
    "# Chapter 1 - Introduction\n",
    "\n",
    "This Jupyter Notebook is intended as a Raku coding companion to anyone who is working on the theory aspects of yachting.\n",
    "\n",
    "The aim is to help intermediate students of yacht cruising to learn and appreciate modern software coding techiques and to apply them to perform interactive calculations.\n",
    "\n",
    "The author has chosen raku over other programming languages, such as Python or Go, for a number of reasons: (i) Unicode makes it more natural to express nautical formulae, (ii) Rational numbers are more suitable for navigation problems, (iii) it combines Object Oriented, Functional and Procedural programming in a expressive way that matches the needs of nautical problems and (iv) it has a basic set of commands 'baby raku' that can be grasped quickly by newcomers to programming.\n",
    "\n",
    "*No prior knowledge of yachting or coding are needed to start - the concepts are introduced gradually by example.*\n",
    "\n",
    "More on raku language can be found at http://raku.org and http://docs.raku.org. I highly recommend 'Think Raku' by Laurent Rosenfeld, with Allen Downey (https://greenteapress.com/wp/think-perl-6/) as an excellent introduction to modern programming for beginningers without any prior knowledge of coding. Raku is the new name for perl6.\n",
    "\n",
    "This content is provided under the Artistic licence 2.0.\n",
    "\n",
    "***THIS CONTENT IS PROVIDED FOR EDUCATIONAL PURPOSES ONLY - DO NOT RELY SOLELY ON THESE TECHNIQUES FOR LIFE CRITICAL NAVIGATION TASKS***"
   ]
  },
  {
   "cell_type": "markdown",
   "metadata": {},
   "source": [
    "## 1.1 Basic Concepts\n",
    "\n",
    "We will be using a couple of Raku modules called Physics::Navigation and Physics::Measure.\n",
    "\n",
    "These help to perform calculations with units such as distance (in nautical miles) and time. Here we set the rounding accuracy to 1 decimal place."
   ]
  },
  {
   "cell_type": "code",
   "execution_count": 1,
   "metadata": {},
   "outputs": [
    {
     "data": {
      "text/plain": [
       "0.1"
      ]
     },
     "execution_count": 1,
     "metadata": {},
     "output_type": "execute_result"
    }
   ],
   "source": [
    "use Physics::Navigation;\n",
    "use Physics::Measure;\n",
    "\n",
    "$Physics::Measure::round-val = 0.1;"
   ]
  },
  {
   "cell_type": "markdown",
   "metadata": {},
   "source": [
    "The longhand way to do this is to make a new object from the Distance class or the Time class and to give each one a numeric value and a string (in 'inverted commas') for the units.\n",
    "\n",
    "These objects are stored in the variables `$d1` and `$t1`."
   ]
  },
  {
   "cell_type": "code",
   "execution_count": 2,
   "metadata": {},
   "outputs": [
    {
     "name": "stdout",
     "output_type": "stream",
     "text": [
      "42nmile\n",
      "1.5hr\n"
     ]
    }
   ],
   "source": [
    "my $d1 = Distance.new( value => 42,  units => 'nmile' );\tsay \"$d1\";\n",
    "my $t1 = Time.new( value => 1.5, units => 'hr' );\t\t    say \"$t1\";"
   ]
  },
  {
   "cell_type": "markdown",
   "metadata": {},
   "source": [
    "Raku uses the dollar symbol to indicate a variable and needs a semicolon at the end of every line.\n",
    "The _my_ keyword is used to declare a new variable.\n",
    "The _say_ operator sends results to the screen, using double quotes to show variable contents.\n",
    "One or more hash symbols (_###_) indicate a comment."
   ]
  },
  {
   "cell_type": "markdown",
   "metadata": {},
   "source": [
    "Since this is quite a lot of typing, one cool feature of raku is you can use emojiis such as Pisces `♓️` as a shortcut - see how the previous declarations look...\n"
   ]
  },
  {
   "cell_type": "code",
   "execution_count": 3,
   "metadata": {},
   "outputs": [
    {
     "name": "stdout",
     "output_type": "stream",
     "text": [
      "42nmile\n",
      "1.5hr\n"
     ]
    }
   ],
   "source": [
    "my $d2 = ♓️'42 nmile';\t\t\t\t\t\tsay ~$d2;\n",
    "my $t2 = ♓️'1.5 hr';\t\t\t\t\t\tsay ~$t2;"
   ]
  },
  {
   "cell_type": "markdown",
   "metadata": {},
   "source": [
    "Hint: either use your emoji keyboard or just cut and paste the `♎️` and deg/min/sec symbols `°/′/″`"
   ]
  },
  {
   "cell_type": "markdown",
   "metadata": {},
   "source": [
    "Now we can do some calculations and use the `.in()` method to convert to the relevant units:"
   ]
  },
  {
   "cell_type": "code",
   "execution_count": 16,
   "metadata": {},
   "outputs": [
    {
     "name": "stdout",
     "output_type": "stream",
     "text": [
      "28knot\n"
     ]
    }
   ],
   "source": [
    "my $s2 = $d2 / $t2;\t\t\t\t\t\tsay ~$s2.in('knots');"
   ]
  },
  {
   "cell_type": "markdown",
   "metadata": {},
   "source": [
    "Angles such as Latitude and Longitude can be expressed in a similar way with both longhand and shorthand versions - here the `♓️` symbol can be used with angle brackets and degree/minute/seconds and the compass point in this format `♓️<43°30′30″S>;`.\n",
    "\n",
    "The in-lat() function converts from nmiles to ° latitude. "
   ]
  },
  {
   "cell_type": "code",
   "execution_count": 17,
   "metadata": {},
   "outputs": [
    {
     "name": "stdout",
     "output_type": "stream",
     "text": [
      "45°0′N\n",
      "43°30.5′S\n",
      "00°42′N\n"
     ]
    }
   ],
   "source": [
    "my $lat1 = Latitude.new( value => 45, compass => <N> );\t say ~$lat1;\n",
    "my $lat2 = ♓️<43°30′30″S>;\t\t\t\t\tsay ~$lat2;\n",
    "my $lat3 = in-lat( $d1 );\t\t\t\t\tsay ~$lat3;"
   ]
  },
  {
   "cell_type": "markdown",
   "metadata": {},
   "source": [
    "And of course you have Longitude and can perform various conversions and calculations."
   ]
  },
  {
   "cell_type": "code",
   "execution_count": 18,
   "metadata": {},
   "outputs": [
    {
     "name": "stdout",
     "output_type": "stream",
     "text": [
      "045°0′W\n",
      "022°0′E\n",
      "88°30.5′S\n",
      "-2610.5nmile\n",
      "-5221nmile\n"
     ]
    }
   ],
   "source": [
    "my $long1 = ♓️<45°W>;\t\t\t\t\t\tsay ~$long1;\n",
    "my $long2 = ♓️<22°E>;\t\t\t\t\t\tsay ~$long2;\n",
    "\n",
    "my $lat4 = $lat2 - $lat1;                   say ~$lat4;\n",
    "my $d3 = $lat2.in('nmiles');\t\t\t\tsay ~$d3;\n",
    "my $d4 = $d3 * 2;\t\t\t\t\t\t    say ~$d4;"
   ]
  },
  {
   "cell_type": "markdown",
   "metadata": {},
   "source": [
    "To round off this intro section, you can use the `.^name` method to inquire the name of the class of the object you have."
   ]
  },
  {
   "cell_type": "code",
   "execution_count": 19,
   "metadata": {},
   "outputs": [
    {
     "name": "stdout",
     "output_type": "stream",
     "text": [
      "Physics::Navigation::Latitude\n",
      "Physics::Navigation::Longitude\n",
      "Physics::Measure::Distance\n",
      "Physics::Measure::Speed\n"
     ]
    }
   ],
   "source": [
    "say $lat1.^name;\n",
    "say $long1.^name;\n",
    "say $d1.^name;\n",
    "say $s2.^name;"
   ]
  },
  {
   "cell_type": "markdown",
   "metadata": {},
   "source": [
    "Sometimes Jupyter will automatically create the closing quote for you \"\" ... take care!"
   ]
  },
  {
   "cell_type": "code",
   "execution_count": null,
   "metadata": {},
   "outputs": [],
   "source": []
  }
 ],
 "metadata": {
  "kernelspec": {
   "display_name": "Raku",
   "language": "raku",
   "name": "raku"
  },
  "language_info": {
   "file_extension": ".raku",
   "mimetype": "text/plain",
   "name": "raku",
   "version": "6.d"
  }
 },
 "nbformat": 4,
 "nbformat_minor": 2
}
