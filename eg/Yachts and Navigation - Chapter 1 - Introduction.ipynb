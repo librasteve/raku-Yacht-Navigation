{
 "cells": [
  {
   "cell_type": "markdown",
   "metadata": {},
   "source": [
    "# Yachts and Navigation - Raku Coding Companion\n",
    "\n",
    "# Chapter 1 - Introduction\n",
    "\n",
    "This Jupyter Notebook is intended as a Raku coding companion to anyone who is working on the theory aspects of yachting.\n",
    "\n",
    "The aim is to help students of yacht cruising to try out some modern software coding techiques and to apply them to perform interactive calculations in a fun and interactive way. And to help students of raku get to grips with using this language on some real-world concepts.\n",
    "\n",
    "The author has chosen raku over other programming languages, such as Python or Go, for a number of reasons: (i) Unicode makes it more natural to express nautical formulae, (ii) Rational numbers are more suitable for navigation problems, (iii) it combines Object Oriented, Functional and Procedural programming in a expressive way that matches the needs of nautical problems and (iv) it has a basic set of commands 'baby raku' that can be grasped quickly by newcomers to programming.\n",
    "\n",
    "*No prior knowledge of yachting or coding are needed to start - the concepts are introduced gradually by example.*\n",
    "\n",
    "More on raku language can be found at http://raku.org and http://docs.raku.org. I highly recommend 'Think Raku' by Laurent Rosenfeld, with Allen Downey (https://greenteapress.com/wp/think-perl-6/) as an excellent introduction to modern programming for beginningers without any prior knowledge of coding. Raku is the new name for perl6.\n",
    "\n",
    "This content is provided under the Artistic licence 2.0.\n",
    "\n",
    "***THIS CONTENT IS PROVIDED FOR EDUCATIONAL PURPOSES ONLY - DO NOT RELY SOLELY ON THESE TECHNIQUES FOR LIFE CRITICAL NAVIGATION TASKS***"
   ]
  },
  {
   "cell_type": "markdown",
   "metadata": {},
   "source": [
    "## 1.1 Basic Concepts\n",
    "\n",
    "We will be using a couple of Raku modules called Physics::Navigation and Physics::Measure.\n",
    "\n",
    "These help to perform calculations with units such as distance (in nautical miles) and time. Here we set the rounding accuracy to 1 decimal place."
   ]
  },
  {
   "cell_type": "code",
   "execution_count": 8,
   "metadata": {},
   "outputs": [
    {
     "data": {
      "text/plain": [
       "0.1"
      ]
     },
     "execution_count": 8,
     "metadata": {},
     "output_type": "execute_result"
    }
   ],
   "source": [
    "use Physics::Navigation;\n",
    "use Physics::Measure;\n",
    "\n",
    "$Physics::Measure::round-val = 0.1;"
   ]
  },
  {
   "cell_type": "markdown",
   "metadata": {},
   "source": [
    "The longhand way to do this is to make a new object from the Distance class or the Time class and to give each one a numeric value and a string (in 'inverted commas') for the units.\n",
    "\n",
    "These objects are stored in the variables `$d1` and `$t1`."
   ]
  },
  {
   "cell_type": "code",
   "execution_count": 9,
   "metadata": {},
   "outputs": [
    {
     "name": "stdout",
     "output_type": "stream",
     "text": [
      "42nmile\n",
      "1.5hr\n"
     ]
    }
   ],
   "source": [
    "my $d1 = Distance.new( value => 42,  units => 'nmile' );\tsay \"$d1\";\n",
    "my $t1 = Time.new( value => 1.5, units => 'hr' );\t\t    say \"$t1\";"
   ]
  },
  {
   "cell_type": "markdown",
   "metadata": {},
   "source": [
    "- Raku uses the dollar symbol to indicate a variable.\n",
    "- The _my_ keyword is used to declare a new variable.\n",
    "- The _say_ operator sends text and values to the screen, using double quotes.\n",
    "- A semicolon indicates the end of a statement or line.\n",
    "- One or more hash symbols (_#_) indicate a comment."
   ]
  },
  {
   "cell_type": "markdown",
   "metadata": {},
   "source": [
    "Since this is quite a lot of typing, one cool feature of raku is you can use emojiis such as Pisces `♓️` as a shortcut - see how the previous declarations look...\n"
   ]
  },
  {
   "cell_type": "code",
   "execution_count": 15,
   "metadata": {},
   "outputs": [
    {
     "name": "stdout",
     "output_type": "stream",
     "text": [
      "42nmile\n",
      "1.5hr\n"
     ]
    }
   ],
   "source": [
    "my $d2 = ♓️'42 nmile';\t\t\t\t\t\tsay \"$d2\";\n",
    "my $t2 = ♓️'1.5 hr';\t\t\t\t\t\tsay \"$t2\";"
   ]
  },
  {
   "cell_type": "markdown",
   "metadata": {},
   "source": [
    "Now we can do some calculations and use the `.in()` method to convert to the relevant units:"
   ]
  },
  {
   "cell_type": "code",
   "execution_count": 20,
   "metadata": {},
   "outputs": [
    {
     "name": "stdout",
     "output_type": "stream",
     "text": [
      "At a boat speed of 28knot.\n"
     ]
    }
   ],
   "source": [
    "my $s2 = $d2 / $t2;\t\t\t\t\t\t    say \"At a boat speed of {$s2.in('knots')}.\";"
   ]
  },
  {
   "cell_type": "markdown",
   "metadata": {},
   "source": [
    "Hint: use curly braces {} to embed code into an output string.\n",
    "\n",
    "Or how about converting to something less nautical..."
   ]
  },
  {
   "cell_type": "code",
   "execution_count": 21,
   "metadata": {},
   "outputs": [
    {
     "name": "stdout",
     "output_type": "stream",
     "text": [
      "On land this would be 32.2mph or 51.9km/hr.\n"
     ]
    }
   ],
   "source": [
    "say \"On land this would be {$s2.in('mph')} or {$s2.in('km/hr')}.\""
   ]
  },
  {
   "cell_type": "markdown",
   "metadata": {},
   "source": [
    "Angles such as Latitude and Longitude can be expressed in a similar way with both longhand and shorthand versions - here the `♓️` symbol can be used with angle brackets and degree/minute/seconds and the compass point in this format `♓️<43°30′30″S>;`. "
   ]
  },
  {
   "cell_type": "code",
   "execution_count": 23,
   "metadata": {},
   "outputs": [
    {
     "name": "stdout",
     "output_type": "stream",
     "text": [
      "45°0′N\n",
      "43°30.5′S\n"
     ]
    }
   ],
   "source": [
    "my $lat1 = Latitude.new( value => 45, compass => <N> );\t say \"$lat1\";\n",
    "my $lat2 = ♓️<43°30′30″S>;\t\t\t\t\t             say \"$lat2\";"
   ]
  },
  {
   "cell_type": "markdown",
   "metadata": {},
   "source": [
    "Hint: either use your emoji & symbol keyboard or just cut and paste the `♎️` and deg/min/sec symbols `°/′/″`"
   ]
  },
  {
   "cell_type": "markdown",
   "metadata": {},
   "source": [
    "And of course you can perform maths operations such as add(+), subtract(-), multiply(\\*), divide(\\/), power(\\*\\*) and root(\\*\\* with a fraction):"
   ]
  },
  {
   "cell_type": "code",
   "execution_count": 25,
   "metadata": {},
   "outputs": [
    {
     "name": "stdout",
     "output_type": "stream",
     "text": [
      "84nmile\n"
     ]
    }
   ],
   "source": [
    "my $d4 = $d2 * 2;\t\t\t\t\t\t    say ~$d4;"
   ]
  },
  {
   "cell_type": "code",
   "execution_count": null,
   "metadata": {},
   "outputs": [],
   "source": [
    "Use cmp to compare two values (this will convert to the same units before comparing):"
   ]
  },
  {
   "cell_type": "code",
   "execution_count": 26,
   "metadata": {},
   "outputs": [
    {
     "data": {
      "text/plain": [
       "Less"
      ]
     },
     "execution_count": 26,
     "metadata": {},
     "output_type": "execute_result"
    }
   ],
   "source": [
    "$d2 cmp $d4;        #Same|More|Less"
   ]
  },
  {
   "cell_type": "markdown",
   "metadata": {},
   "source": [
    "To round off this intro section, you can use the `.^name` method to get the class of an object."
   ]
  },
  {
   "cell_type": "code",
   "execution_count": 12,
   "metadata": {},
   "outputs": [
    {
     "name": "stdout",
     "output_type": "stream",
     "text": [
      "Physics::Measure::Length\n",
      "Physics::Measure::Time\n",
      "Physics::Measure::Speed\n"
     ]
    }
   ],
   "source": [
    "say $d2.^name;\n",
    "say $t2.^name;\n",
    "say $s2.^name;"
   ]
  },
  {
   "cell_type": "markdown",
   "metadata": {},
   "source": [
    "Hint: Sometimes Jupyter will automatically create the closing quote for you \"\" ... take care!"
   ]
  },
  {
   "cell_type": "code",
   "execution_count": null,
   "metadata": {},
   "outputs": [],
   "source": []
  }
 ],
 "metadata": {
  "kernelspec": {
   "display_name": "Raku",
   "language": "raku",
   "name": "raku"
  },
  "language_info": {
   "file_extension": ".raku",
   "mimetype": "text/plain",
   "name": "raku",
   "version": "6.d"
  }
 },
 "nbformat": 4,
 "nbformat_minor": 2
}
