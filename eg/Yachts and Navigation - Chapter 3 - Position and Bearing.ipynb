{
 "cells": [
  {
   "cell_type": "markdown",
   "metadata": {},
   "source": [
    "# Chapter 3 - Position and Bearing\n",
    "\n",
    "This chapter will expand on the Latitude and Longitude classes that we met in Chapter 2 and will present both raku and navigation concepts cell by cell.\n",
    "\n",
    "First, Jupyter notebooks need us to repeat a little preamble each time..."
   ]
  },
  {
   "cell_type": "code",
   "execution_count": 1,
   "metadata": {},
   "outputs": [
    {
     "name": "stdout",
     "output_type": "stream",
     "text": [
      "ϕ1 is 45°0′N\n",
      "λ1 is 045°0′E\n",
      "ϕ2 is 43°30.5′S\n",
      "λ2 is 022°0′W\n"
     ]
    }
   ],
   "source": [
    "use Physics::Navigation;\n",
    "use Physics::Measure;\n",
    "\n",
    "my \\ϕ1 = ♓️<45°0′N>;        say \"ϕ1 is {ϕ1}\";\n",
    "my \\λ1 = ♓️<045°0′E>;       say \"λ1 is {λ1}\";\n",
    "my \\ϕ2 = ♓️<43°30′30″S>;    say \"ϕ2 is {ϕ2}\";\n",
    "my \\λ2 = ♓️<22°W>;          say \"λ2 is {λ2}\";"
   ]
  },
  {
   "cell_type": "markdown",
   "metadata": {},
   "source": [
    "## Position\n",
    "\n",
    "A Position on the Earth's surface is uniquely defined by a combination of its Latitude and Longitude."
   ]
  },
  {
   "cell_type": "code",
   "execution_count": 2,
   "metadata": {},
   "outputs": [
    {
     "name": "stdout",
     "output_type": "stream",
     "text": [
      "(45°0′N, 045°0′E)\n",
      "(43°30.5′S, 022°0′W)\n"
     ]
    }
   ],
   "source": [
    "my $start = Position.new( ϕ1, λ1 );        say \"$start\";\n",
    "my $dest  = Position.new( ϕ2, λ2 );        say \"$dest\";"
   ]
  },
  {
   "cell_type": "markdown",
   "metadata": {},
   "source": [
    "## Bearing\n",
    "\n",
    "A Bearing is the compass direction to steer to get from one position to another as measured clockwise from North (0°)."
   ]
  },
  {
   "cell_type": "markdown",
   "metadata": {},
   "source": [
    "A compass rose, showing absolute bearings in degrees.\n",
    "\n",
    "![diagram](https://upload.wikimedia.org/wikipedia/commons/thumb/2/29/Compass_Card_B%2BW.svg/1920px-Compass_Card_B%2BW.svg.png)"
   ]
  },
  {
   "cell_type": "markdown",
   "metadata": {},
   "source": [
    "## Variation & Deviation\n",
    "Since many compasses employ the Earth's magnetic field, two kinds of correction must be applied (to either east or west):\n",
    "- Variation (Vw/Ve) corrects for the difference in position of the Earth's True North and Magnatic North poles\n",
    "- Deviation (Dw/De) corrects for the influence of the innate magnetic field of the vessel (e.g. a steel hull)\n",
    "\n",
    "So there are two kinds of Bearing - True and Magnetic.\n",
    "\n",
    "In this case, we will specify a variation ... Bearings embody the identity _Magnetic = True + Variation-West + Deviation-West_"
   ]
  },
  {
   "cell_type": "code",
   "execution_count": 6,
   "metadata": {},
   "outputs": [
    {
     "data": {
      "text/plain": [
       "07°0′Vw"
      ]
     },
     "execution_count": 6,
     "metadata": {},
     "output_type": "execute_result"
    }
   ],
   "source": [
    "$Physics::Navigation::variation = \\\n",
    "          Variation.new( value => 7, compass => <W> );"
   ]
  },
  {
   "cell_type": "markdown",
   "metadata": {},
   "source": [
    "Hint: Use a backslash to spread a statement over multiple lines."
   ]
  },
  {
   "cell_type": "markdown",
   "metadata": {},
   "source": [
    "## True & Magnetic Bearings\n",
    "When you initialize a Bearing object, use the letter T or M to distinguish which you have. In practice a Bearing can be Magnetic if it comes from the boat's compass or a handheld compass. It can be True if lifted from a paper chart or read from an electronic chart plotter screen."
   ]
  },
  {
   "cell_type": "code",
   "execution_count": 9,
   "metadata": {},
   "outputs": [
    {
     "name": "stdout",
     "output_type": "stream",
     "text": [
      "080°E (T) is type Physics::Navigation::BearingTrue.\n",
      "044°NE (M) is type Physics::Navigation::BearingMag.\n",
      "131°SE (M)\n"
     ]
    }
   ],
   "source": [
    "my $bear1 = ♓️<80°T>;\n",
    "my $bear2 = ♓️<43°30′30″M>;\n",
    "\n",
    "say \"$bear1 is type {$bear1.^name}\";\n",
    "say \"$bear2 is type {$bear2.^name}\";"
   ]
  },
  {
   "cell_type": "markdown",
   "metadata": {},
   "source": [
    "Hint: note how a Bearing is output along with its compass point.\n",
    "Note: Bearings are always rounded to 1 degree"
   ]
  },
  {
   "cell_type": "markdown",
   "metadata": {},
   "source": [
    "As you might expect, raku types must be the same to be added or subtracted preventing mistaken combination of True and Magnetic values. Use the methods .T or .M convert the bearing type as needed."
   ]
  },
  {
   "cell_type": "code",
   "execution_count": 19,
   "metadata": {},
   "outputs": [
    {
     "name": "stdout",
     "output_type": "stream",
     "text": [
      "131°SE (M) is type Physics::Navigation::BearingMag\n"
     ]
    },
    {
     "data": {
      "text/plain": [
       "can't add different Bearing types"
      ]
     },
     "execution_count": 19,
     "metadata": {},
     "output_type": "execute_result"
    }
   ],
   "source": [
    "my $bear3 = $bear2 + $bear1.M;\n",
    "say \"$bear3 is type {$bear3.^name}\";\n",
    "\n",
    "# and not...\n",
    "\n",
    "try {\n",
    "    say $bear1 + $bear2;\n",
    "}\n",
    "if $! {\"can't add different Bearing types\";}"
   ]
  }
 ],
 "metadata": {
  "kernelspec": {
   "display_name": "Raku",
   "language": "raku",
   "name": "raku"
  },
  "language_info": {
   "file_extension": ".raku",
   "mimetype": "text/plain",
   "name": "raku",
   "version": "6.d"
  }
 },
 "nbformat": 4,
 "nbformat_minor": 2
}
