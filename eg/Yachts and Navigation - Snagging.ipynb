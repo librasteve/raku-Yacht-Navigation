{
 "cells": [
  {
   "cell_type": "markdown",
   "metadata": {},
   "source": [
    "## Snagging\n",
    "Some cells that have not found a home in the refactor"
   ]
  },
  {
   "cell_type": "code",
   "execution_count": null,
   "metadata": {},
   "outputs": [],
   "source": [
    "### Angles can be specified as decimal or degrees-minutes-seconds:\n",
    "\n",
    "my $θ ♎️ <7°30′30″>;\n",
    "say $θ.WHAT;\n",
    "say \"My θ is $θ\";"
   ]
  },
  {
   "cell_type": "markdown",
   "metadata": {},
   "source": [
    "Hint: use cut and paste the ♎️ and deg/min/sec symbols °/′/″"
   ]
  },
  {
   "cell_type": "code",
   "execution_count": null,
   "metadata": {
    "scrolled": true
   },
   "outputs": [],
   "source": [
    "### Trigonometric functions (sin, cos and tan)...\n",
    "\n",
    "my $sine = sin( $θ );\n",
    "say \"The sine of $θ is $sine\";\n",
    "say \"[$θ is equivalent to decimal {+$θ} degrees or $θ.in('radians') for checking purposes]\";"
   ]
  },
  {
   "cell_type": "markdown",
   "metadata": {},
   "source": [
    "Hint - the ```+$θ``` is a shortcut for ```$θ.value```."
   ]
  },
  {
   "cell_type": "code",
   "execution_count": null,
   "metadata": {},
   "outputs": [],
   "source": [
    "### ... and their inverses (asin, acos and atan) work on Angle objects.\n",
    "\n",
    "my $arcsin = asin( $sine, units => '°' );\n",
    "say \"My arcsin is $arcsin\";"
   ]
  },
  {
   "cell_type": "markdown",
   "metadata": {},
   "source": [
    "Hint: You need to provide the ```units => '°'``` tag to tell raku you want degrees back."
   ]
  },
  {
   "cell_type": "code",
   "execution_count": null,
   "metadata": {},
   "outputs": [],
   "source": []
  }
 ],
 "metadata": {
  "kernelspec": {
   "display_name": "Raku",
   "language": "raku",
   "name": "raku"
  },
  "language_info": {
   "file_extension": ".raku",
   "mimetype": "text/plain",
   "name": "raku",
   "version": "6.d"
  }
 },
 "nbformat": 4,
 "nbformat_minor": 2
}
