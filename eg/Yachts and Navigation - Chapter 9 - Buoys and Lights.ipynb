{
 "cells": [
  {
   "cell_type": "markdown",
   "metadata": {},
   "source": [
    "# Chapter 9 - Buoys and Lights\n",
    "\n",
    "This chapter departs from the previous formats in a couple of ways.\n",
    "\n",
    "This time we are also using the raku Math::Polygons module to help us with some drawings.\n",
    "\n",
    "We need to use basic polygon shapes such as Rectangle and Triangle to create our figures. (The Polygons.ipynb and Tree.ipynb notebooks give some more examples)."
   ]
  },
  {
   "cell_type": "code",
   "execution_count": 1,
   "metadata": {},
   "outputs": [],
   "source": [
    "use Physics::Navigation;\n",
    "use Physics::Measure;\n",
    "use Math::Polygons;"
   ]
  },
  {
   "cell_type": "markdown",
   "metadata": {},
   "source": [
    "Sadly the Math::Polygons module does not include a Circle class. We need an animated one to display our flashing light examples. Luckily we can make our own.\n",
    "\n",
    "Did I say Animated, oh we also need to make a role for that! "
   ]
  },
  {
   "cell_type": "code",
   "execution_count": 2,
   "metadata": {},
   "outputs": [
    {
     "data": {
      "text/plain": [
       "(Animated)"
      ]
     },
     "execution_count": 2,
     "metadata": {},
     "output_type": "execute_result"
    }
   ],
   "source": [
    "role Animated {\n",
    "    has @.pattern  = <#800 #f00 #800 #800>;\n",
    "    has $.duration = 2;\n",
    "    \n",
    "    method animate {\n",
    "        animate => [ attributeName => \"fill\",   values => @!pattern.join(';'),\n",
    "                     dur => ($!duration ~ \"s\"), repeatCount => \"indefinite\" ];\n",
    "    }\n",
    "}"
   ]
  },
  {
   "cell_type": "markdown",
   "metadata": {},
   "source": [
    "The ```does``` keyword brings our Animated role into play. We are using ```does Element does Styled``` to bring in the other behaviours we need to draw and format our Circles."
   ]
  },
  {
   "cell_type": "code",
   "execution_count": 3,
   "metadata": {},
   "outputs": [
    {
     "data": {
      "text/plain": [
       "(Circle)"
      ]
     },
     "execution_count": 3,
     "metadata": {},
     "output_type": "execute_result"
    }
   ],
   "source": [
    "class Circle does Element does Styled does Animated {\n",
    "    has Point $.centre;\n",
    "    has       $.radius;\n",
    "\n",
    "    method serialize {\n",
    "        circle => [ cx => $!centre.x, cy => $!centre.y, r => $!radius, \n",
    "                      self.animate, |self.styles ];\n",
    "    }\n",
    "}"
   ]
  },
  {
   "cell_type": "code",
   "execution_count": 4,
   "metadata": {},
   "outputs": [
    {
     "data": {
      "text/plain": [
       "Math::Polygons::Triangle.new(apex => Math::Polygons::Point.new(x => 220, y => 160), side => 100, points => Array[Math::Polygons::Point].new(), fill => \"green\", stroke => \"black\", stroke-width => 3)"
      ]
     },
     "execution_count": 4,
     "metadata": {},
     "output_type": "execute_result"
    }
   ],
   "source": [
    "my $circle = Circle.new(\n",
    "    centre => Point.new(80, 380),\n",
    "    radius => 30\n",
    ");\n",
    "\n",
    "my $rectangle = Rectangle.new( \n",
    "    origin => Point.new(20, 20),\n",
    "    width  => 120, \n",
    "    height => 80  \n",
    ");\n",
    "\n",
    "my $square = Square.new( \n",
    "    origin => Point.new(170, 20),\n",
    "    side   => 100 \n",
    ");\n",
    "\n",
    "my \\A = Point.new( 20, 260);\n",
    "my \\B = Point.new( 30, 200);\n",
    "my \\C = Point.new(120, 145);\n",
    "my \\D = Point.new(125, 250);\n",
    "my $quadrilateral = Quadrilateral.new(\n",
    "    A, B, C, D,  \n",
    ");\n",
    "\n",
    "my $triangle = Triangle.new(\n",
    "    fill => \"green\",\n",
    "    stroke => \"black\",\n",
    "    apex => Point.new(220, 160),\n",
    "    side => 100 \n",
    ");"
   ]
  },
  {
   "cell_type": "code",
   "execution_count": 5,
   "metadata": {},
   "outputs": [
    {
     "data": {
      "image/svg+xml": [
       "<svg xmlns=\"http://www.w3.org/2000/svg\" xmlns:svg=\"http://www.w3.org/2000/svg\" xmlns:xlink=\"http://www.w3.org/1999/xlink\" height=\"768\" width=\"1024\"><circle cx=\"80\" cy=\"380\" r=\"30\" stroke=\"blue\" stroke-width=\"3\" fill=\"red\"><animate attributeName=\"fill\" values=\"#800;#f00;#800;#800\" dur=\"2s\" repeatCount=\"indefinite\" />\n",
       "</circle>\n",
       "<rect x=\"20\" y=\"20\" width=\"120\" height=\"80\" stroke=\"blue\" stroke-width=\"3\" fill=\"red\" />\n",
       "<rect x=\"170\" y=\"20\" width=\"100\" height=\"100\" stroke=\"blue\" stroke-width=\"3\" fill=\"red\" />\n",
       "<polygon points=\"20,260 30,200 120,145 125,250\" stroke=\"blue\" stroke-width=\"3\" fill=\"red\" />\n",
       "<polygon points=\"220,160 170,246.60254037844385 270,246.60254037844385\" stroke=\"black\" stroke-width=\"3\" fill=\"green\" />\n",
       "</svg>\n",
       "\n"
      ]
     },
     "metadata": {},
     "output_type": "display_data"
    }
   ],
   "source": [
    "my $drawing = Drawing.new( \n",
    "    elements => [\n",
    "        $circle,\n",
    "        $rectangle, \n",
    "        $square,\n",
    "        $quadrilateral,\n",
    "        $triangle,\n",
    "    ],\n",
    ");\n",
    "$drawing.serialize.say;"
   ]
  },
  {
   "cell_type": "code",
   "execution_count": null,
   "metadata": {},
   "outputs": [],
   "source": []
  },
  {
   "cell_type": "code",
   "execution_count": null,
   "metadata": {},
   "outputs": [],
   "source": [
    "<svg width=\"320\" height=\"320\" viewBox=\"0 0 320 320\">\n",
    "<circle fill=\"none\" stroke=\"#000\" stroke-width=\"4\" cx=\"50\" cy=\"50\" r=\"48\" stroke-dasharray=\"360\" stroke-linecap=\"round\" transform=\"rotate(-90 ) translate(-100 0)\" >\n",
    "        <animate attributeName=\"fill\" values=\"#800;#f00;#800;#800\" dur=\"2s\" repeatCount=\"indefinite\"></animate>\n",
    "</circle>\n",
    "</svg>"
   ]
  }
 ],
 "metadata": {
  "kernelspec": {
   "display_name": "Raku",
   "language": "raku",
   "name": "raku"
  },
  "language_info": {
   "file_extension": ".raku",
   "mimetype": "text/plain",
   "name": "raku",
   "version": "6.d"
  }
 },
 "nbformat": 4,
 "nbformat_minor": 2
}
