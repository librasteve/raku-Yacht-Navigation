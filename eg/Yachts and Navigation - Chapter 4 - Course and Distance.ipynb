{
 "cells": [
  {
   "cell_type": "markdown",
   "metadata": {},
   "source": [
    "# Chapter 4 -  Course and Distance\n",
    "\n",
    "This chapter will develop the Position and Bearing classes that we met in Chapter 3 and will present both raku and navigation concepts cell by cell.\n",
    "\n",
    "First, Jupyter notebooks need us to repeat a little preamble each time..."
   ]
  },
  {
   "cell_type": "code",
   "execution_count": 1,
   "metadata": {},
   "outputs": [
    {
     "name": "stdout",
     "output_type": "stream",
     "text": [
      "ϕ1 is 45°0′N\n",
      "λ1 is 045°0′E\n",
      "ϕ2 is 43°0′S\n",
      "λ2 is 022°0′W\n"
     ]
    }
   ],
   "source": [
    "use Physics::Navigation;\n",
    "use Physics::Measure;\n",
    "\n",
    "$Physics::Measure::round-val = 1000;\n",
    "$Physics::Navigation::variation = \\\n",
    "          Variation.new( value => 7, compass => <W> );\n",
    "\n",
    "my \\ϕ1 = ♓️<45°0′N>;        say \"ϕ1 is {ϕ1}\";\n",
    "my \\λ1 = ♓️<045°0′E>;       say \"λ1 is {λ1}\";\n",
    "my \\ϕ2 = ♓️<43°30′30″S>;    say \"ϕ2 is {ϕ2}\";\n",
    "my \\λ2 = ♓️<22°W>;          say \"λ2 is {λ2}\";"
   ]
  },
  {
   "cell_type": "code",
   "execution_count": 3,
   "metadata": {},
   "outputs": [
    {
     "name": "stdout",
     "output_type": "stream",
     "text": [
      "(45°0′N, 045°0′E)\n",
      "(43°0′S, 022°0′W)\n"
     ]
    }
   ],
   "source": [
    "my $start  = Position.new( ϕ1, λ1 );        say \"$start\";\n",
    "my $finish = Position.new( ϕ2, λ2 );        say \"$finish\";"
   ]
  },
  {
   "cell_type": "markdown",
   "metadata": {},
   "source": [
    "## Direction\n",
    "\n",
    "The direction in which to point your craft from start to finish is affected by the curvature of the Earth. For example, the bearing between Cape Town and Melbourne along the geodesic (the shortest route) changes from 141° to 42°."
   ]
  },
  {
   "cell_type": "markdown",
   "metadata": {},
   "source": [
    "![alt test](https://upload.wikimedia.org/wikipedia/commons/8/80/Bearing_and_azimuth_along_the_geodesic.png)"
   ]
  },
  {
   "cell_type": "markdown",
   "metadata": {},
   "source": [
    "Hint: the term \"azimuth\" is a synonym for the term \"bearing\""
   ]
  },
  {
   "cell_type": "markdown",
   "metadata": {},
   "source": [
    "The raku Physics::Navigation module contains two handy methods for calculating your route from start to finish:\n",
    "- The .haversine_distance gives the \"great circle\" distance\n",
    "- The .forward_azimuth supplies the initial Bearing to steer\n",
    "\n",
    "Since the Bearing changes along the route, this must be continually updated.\n",
    "\n",
    "You can find more about the application of the Haversine formula at https://en.wikipedia.org/wiki/Haversine_formula"
   ]
  },
  {
   "cell_type": "code",
   "execution_count": 6,
   "metadata": {},
   "outputs": [
    {
     "name": "stdout",
     "output_type": "stream",
     "text": [
      "10080000m\n"
     ]
    },
    {
     "data": {
      "text/plain": [
       "cannot convert in to different type Length"
      ]
     },
     "execution_count": 6,
     "metadata": {},
     "output_type": "execute_result"
    }
   ],
   "source": [
    "$start.haversine-dist($finish).say; \n",
    "$start.haversine-dist($finish).in('km').say;\n",
    "$start.forward-azimuth($finish).say; "
   ]
  },
  {
   "cell_type": "code",
   "execution_count": null,
   "metadata": {},
   "outputs": [],
   "source": [
    "IAMEREJH - reset Physics::Navigation Distance ...> Length in Comma"
   ]
  },
  {
   "cell_type": "code",
   "execution_count": null,
   "metadata": {},
   "outputs": [],
   "source": []
  },
  {
   "cell_type": "code",
   "execution_count": null,
   "metadata": {},
   "outputs": [],
   "source": [
    "my $pos-A = Position.new( ♓️<51.5072°N>, ♓️<0.1276°W> ); say \"$pos-A\";\n",
    "my $pos-B = Position.new( ♓️<51.5072°N>, ♓️<0.1110°W> ); say \"$pos-B\";\n",
    "my $pos-C = Position.new( ♓️<51.5072°N>, ♓️<0.1100°W> ); say \"$pos-C\";"
   ]
  },
  {
   "cell_type": "markdown",
   "metadata": {},
   "source": [
    "Hint: You can use decimal notation for Angles as well as dms."
   ]
  },
  {
   "cell_type": "code",
   "execution_count": null,
   "metadata": {},
   "outputs": [],
   "source": []
  }
 ],
 "metadata": {
  "kernelspec": {
   "display_name": "Raku",
   "language": "raku",
   "name": "raku"
  },
  "language_info": {
   "file_extension": ".raku",
   "mimetype": "text/plain",
   "name": "raku",
   "version": "6.d"
  }
 },
 "nbformat": 4,
 "nbformat_minor": 2
}
